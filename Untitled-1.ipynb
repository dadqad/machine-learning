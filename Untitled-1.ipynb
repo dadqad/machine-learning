{
 "cells": [
  {
   "cell_type": "code",
   "execution_count": 31,
   "metadata": {},
   "outputs": [
    {
     "name": "stdout",
     "output_type": "stream",
     "text": [
      "Looking in indexes: https://pypi.douban.com/simple/\n",
      "Requirement already satisfied: pandas in d:\\programdata\\anaconda3\\lib\\site-packages (1.4.0)\n",
      "Requirement already satisfied: pytz>=2020.1 in d:\\programdata\\anaconda3\\lib\\site-packages (from pandas) (2021.3)\n",
      "Requirement already satisfied: python-dateutil>=2.8.1 in d:\\programdata\\anaconda3\\lib\\site-packages (from pandas) (2.8.2)\n",
      "Requirement already satisfied: numpy>=1.18.5 in d:\\programdata\\anaconda3\\lib\\site-packages (from pandas) (1.22.1)\n",
      "Requirement already satisfied: six>=1.5 in d:\\programdata\\anaconda3\\lib\\site-packages (from python-dateutil>=2.8.1->pandas) (1.16.0)\n",
      "Looking in indexes: https://pypi.douban.com/simple/\n",
      "Requirement already satisfied: numpy in d:\\programdata\\anaconda3\\lib\\site-packages (1.22.1)\n",
      "Looking in indexes: https://pypi.douban.com/simple/\n",
      "Requirement already satisfied: sklearn in d:\\programdata\\anaconda3\\lib\\site-packages (0.0)\n",
      "Requirement already satisfied: scikit-learn in d:\\programdata\\anaconda3\\lib\\site-packages (from sklearn) (1.0.1)\n",
      "Requirement already satisfied: numpy>=1.14.6 in d:\\programdata\\anaconda3\\lib\\site-packages (from scikit-learn->sklearn) (1.22.1)\n",
      "Requirement already satisfied: joblib>=0.11 in d:\\programdata\\anaconda3\\lib\\site-packages (from scikit-learn->sklearn) (1.1.0)\n",
      "Requirement already satisfied: scipy>=1.1.0 in d:\\programdata\\anaconda3\\lib\\site-packages (from scikit-learn->sklearn) (1.7.3)\n",
      "Requirement already satisfied: threadpoolctl>=2.0.0 in d:\\programdata\\anaconda3\\lib\\site-packages (from scikit-learn->sklearn) (3.0.0)\n",
      "Looking in indexes: https://pypi.douban.com/simple/\n",
      "Requirement already satisfied: matplotlib in d:\\programdata\\anaconda3\\lib\\site-packages (3.5.1)\n",
      "Requirement already satisfied: python-dateutil>=2.7 in d:\\programdata\\anaconda3\\lib\\site-packages (from matplotlib) (2.8.2)\n",
      "Requirement already satisfied: kiwisolver>=1.0.1 in d:\\programdata\\anaconda3\\lib\\site-packages (from matplotlib) (1.3.2)\n",
      "Requirement already satisfied: pillow>=6.2.0 in d:\\programdata\\anaconda3\\lib\\site-packages (from matplotlib) (8.4.0)\n",
      "Requirement already satisfied: cycler>=0.10 in d:\\programdata\\anaconda3\\lib\\site-packages (from matplotlib) (0.11.0)\n",
      "Requirement already satisfied: fonttools>=4.22.0 in d:\\programdata\\anaconda3\\lib\\site-packages (from matplotlib) (4.28.5)\n",
      "Requirement already satisfied: packaging>=20.0 in d:\\programdata\\anaconda3\\lib\\site-packages (from matplotlib) (21.3)\n",
      "Requirement already satisfied: numpy>=1.17 in d:\\programdata\\anaconda3\\lib\\site-packages (from matplotlib) (1.22.1)\n",
      "Requirement already satisfied: pyparsing>=2.2.1 in d:\\programdata\\anaconda3\\lib\\site-packages (from matplotlib) (3.0.6)\n",
      "Requirement already satisfied: six>=1.5 in d:\\programdata\\anaconda3\\lib\\site-packages (from python-dateutil>=2.7->matplotlib) (1.16.0)\n",
      "预测列名 压缩回弹性率（%）\n",
      "待预测数据: [[  38  850]\n",
      " [  33  950]\n",
      " [  28 1150]\n",
      " [  23 1250]\n",
      " [  38 1250]\n",
      " [  33 1150]\n",
      " [  28  950]\n",
      " [  23  850]]\n",
      "训练集MSE: 1.0740067709550813\n",
      "预测结果 [86.46797905 86.53831064 86.33489819 86.40522978 85.3730029  85.99082257\n",
      " 86.88238626 87.50020592]\n"
     ]
    },
    {
     "name": "stderr",
     "output_type": "stream",
     "text": [
      "d:\\ProgramData\\Anaconda3\\lib\\site-packages\\sklearn\\base.py:445: UserWarning: X does not have valid feature names, but LinearRegression was fitted with feature names\n",
      "  warnings.warn(\n"
     ]
    }
   ],
   "source": [
    "! pip install pandas\n",
    "! pip install numpy\n",
    "! pip install sklearn\n",
    "! pip install matplotlib\n",
    "\n",
    "import pandas as pd \n",
    "import numpy as np\n",
    "import scipy                      #统计分析库\n",
    "from scipy import stats          #scipy库的stats模块\n",
    "import sklearn                    #机器学习库\n",
    "from sklearn.model_selection import train_test_split, GridSearchCV  #  train_test_split 划分数据集包  GridSearchCV 网格搜索超参数包\n",
    "from sklearn.linear_model import LinearRegression  # 线性回归导包 \n",
    "from sklearn.ensemble import RandomForestRegressor\n",
    "import matplotlib.pyplot as plt\n",
    "import matplotlib as mpl\n",
    "import os\n",
    "os.system('cls')\n",
    "# matplotlib其实是不支持显示中文的 显示中文需要一行代码设置字体\n",
    "predict_index = '压缩回弹性率（%）'\n",
    "print('预测列名',predict_index)\n",
    "mpl.rcParams['font.family'] = 'SimHei'\n",
    "plt.rcParams['axes.unicode_minus'] = False   # 步骤二（解决坐标轴负数的负号显示问题）\n",
    "all_data = pd.read_excel('./C题数据.xlsx',sheet_name='data3')\n",
    "all_data\n",
    "train_data = all_data[['接收距离(cm)','热风速度(r/min)']]\n",
    "label = all_data[['厚度mm','孔隙率（%）','压缩回弹性率（%）']]\n",
    "test_data = [[38,33,28,23,38,33,28,23],[850,950,1150,1250,1250,1150,950,850]]\n",
    "test_data =np.array(test_data)\n",
    "test_data = test_data.T\n",
    "print('待预测数据:',test_data)\n",
    "model = GridSearchCV(LinearRegression(),cv=3,param_grid={},scoring='neg_mean_squared_error',refit=True)   #线性回归模型 MSE评价方式 网格搜索法 ， 3折交叉验证\n",
    "model.fit(train_data,label[predict_index],)\n",
    "print(\"训练集MSE:\",abs(model.score(train_data,label[predict_index])))    #打印预测的MSE,该值越接近于0越好\n",
    "print('预测结果',model.predict(test_data))"
   ]
  }
 ],
 "metadata": {
  "kernelspec": {
   "display_name": "Python 3.8.8 ('base')",
   "language": "python",
   "name": "python3"
  },
  "language_info": {
   "codemirror_mode": {
    "name": "ipython",
    "version": 3
   },
   "file_extension": ".py",
   "mimetype": "text/x-python",
   "name": "python",
   "nbconvert_exporter": "python",
   "pygments_lexer": "ipython3",
   "version": "3.8.8"
  },
  "orig_nbformat": 4,
  "vscode": {
   "interpreter": {
    "hash": "e42634819b8c191a5d07eaf23810ff32516dd8d3875f28ec3e488928fbd3c187"
   }
  }
 },
 "nbformat": 4,
 "nbformat_minor": 2
}
