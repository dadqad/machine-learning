{
 "cells": [
  {
   "cell_type": "markdown",
   "metadata": {},
   "source": [
    "# 导包"
   ]
  },
  {
   "cell_type": "code",
   "execution_count": 371,
   "metadata": {},
   "outputs": [],
   "source": [
    "import pandas as pd\n",
    "import numpy as np\n",
    "import matplotlib.pyplot as plt\n"
   ]
  },
  {
   "cell_type": "markdown",
   "metadata": {},
   "source": [
    "# 读取数据"
   ]
  },
  {
   "cell_type": "code",
   "execution_count": 372,
   "metadata": {},
   "outputs": [],
   "source": [
    "data = pd.read_excel('数据分析-上海房价数据-by莫斯利安.xlsx')"
   ]
  },
  {
   "cell_type": "markdown",
   "metadata": {},
   "source": [
    "# 特征查看"
   ]
  },
  {
   "cell_type": "code",
   "execution_count": 373,
   "metadata": {},
   "outputs": [
    {
     "data": {
      "text/html": [
       "<div>\n",
       "<style scoped>\n",
       "    .dataframe tbody tr th:only-of-type {\n",
       "        vertical-align: middle;\n",
       "    }\n",
       "\n",
       "    .dataframe tbody tr th {\n",
       "        vertical-align: top;\n",
       "    }\n",
       "\n",
       "    .dataframe thead th {\n",
       "        text-align: right;\n",
       "    }\n",
       "</style>\n",
       "<table border=\"1\" class=\"dataframe\">\n",
       "  <thead>\n",
       "    <tr style=\"text-align: right;\">\n",
       "      <th></th>\n",
       "      <th>Unnamed: 0</th>\n",
       "      <th>总价(W)</th>\n",
       "      <th>建筑面积(㎡)</th>\n",
       "      <th>建筑类型</th>\n",
       "      <th>房屋朝向</th>\n",
       "      <th>建筑结构</th>\n",
       "      <th>装修情况</th>\n",
       "      <th>梯户比例</th>\n",
       "      <th>配备电梯</th>\n",
       "      <th>经纬度</th>\n",
       "      <th>行政区</th>\n",
       "      <th>户型-房间</th>\n",
       "      <th>户型-厅</th>\n",
       "      <th>户型-厨房</th>\n",
       "      <th>户型-卫生</th>\n",
       "      <th>建成时间</th>\n",
       "      <th>所处层数</th>\n",
       "      <th>总楼层</th>\n",
       "    </tr>\n",
       "  </thead>\n",
       "  <tbody>\n",
       "    <tr>\n",
       "      <th>0</th>\n",
       "      <td>0</td>\n",
       "      <td>275.0</td>\n",
       "      <td>89.00</td>\n",
       "      <td>板楼</td>\n",
       "      <td>南北</td>\n",
       "      <td>砖混结构</td>\n",
       "      <td>精装</td>\n",
       "      <td>一梯两户</td>\n",
       "      <td>无</td>\n",
       "      <td>121.2535861,31.0347424</td>\n",
       "      <td>松江</td>\n",
       "      <td>2</td>\n",
       "      <td>2</td>\n",
       "      <td>1</td>\n",
       "      <td>1</td>\n",
       "      <td>1999</td>\n",
       "      <td>高</td>\n",
       "      <td>6</td>\n",
       "    </tr>\n",
       "    <tr>\n",
       "      <th>1</th>\n",
       "      <td>1</td>\n",
       "      <td>310.0</td>\n",
       "      <td>75.23</td>\n",
       "      <td>板楼</td>\n",
       "      <td>南</td>\n",
       "      <td>钢混结构</td>\n",
       "      <td>精装</td>\n",
       "      <td>一梯两户</td>\n",
       "      <td>无</td>\n",
       "      <td>121.3175491,31.24657189</td>\n",
       "      <td>嘉定</td>\n",
       "      <td>2</td>\n",
       "      <td>2</td>\n",
       "      <td>1</td>\n",
       "      <td>1</td>\n",
       "      <td>2005</td>\n",
       "      <td>高</td>\n",
       "      <td>5</td>\n",
       "    </tr>\n",
       "    <tr>\n",
       "      <th>2</th>\n",
       "      <td>2</td>\n",
       "      <td>405.0</td>\n",
       "      <td>129.49</td>\n",
       "      <td>板楼</td>\n",
       "      <td>南</td>\n",
       "      <td>钢混结构</td>\n",
       "      <td>毛坯</td>\n",
       "      <td>一梯两户</td>\n",
       "      <td>无</td>\n",
       "      <td>121.7264358,31.1604964</td>\n",
       "      <td>浦东</td>\n",
       "      <td>3</td>\n",
       "      <td>2</td>\n",
       "      <td>1</td>\n",
       "      <td>2</td>\n",
       "      <td>2005</td>\n",
       "      <td>高</td>\n",
       "      <td>6</td>\n",
       "    </tr>\n",
       "    <tr>\n",
       "      <th>3</th>\n",
       "      <td>3</td>\n",
       "      <td>370.0</td>\n",
       "      <td>78.00</td>\n",
       "      <td>板楼</td>\n",
       "      <td>南北</td>\n",
       "      <td>砖混结构</td>\n",
       "      <td>简装</td>\n",
       "      <td>一梯四户</td>\n",
       "      <td>无</td>\n",
       "      <td>121.488126,31.325868</td>\n",
       "      <td>宝山</td>\n",
       "      <td>3</td>\n",
       "      <td>1</td>\n",
       "      <td>1</td>\n",
       "      <td>1</td>\n",
       "      <td>1995</td>\n",
       "      <td>低</td>\n",
       "      <td>6</td>\n",
       "    </tr>\n",
       "    <tr>\n",
       "      <th>4</th>\n",
       "      <td>4</td>\n",
       "      <td>210.0</td>\n",
       "      <td>86.32</td>\n",
       "      <td>板楼</td>\n",
       "      <td>南北</td>\n",
       "      <td>钢混结构</td>\n",
       "      <td>其他</td>\n",
       "      <td>两梯四户</td>\n",
       "      <td>有</td>\n",
       "      <td>121.129149,31.290665</td>\n",
       "      <td>青浦</td>\n",
       "      <td>2</td>\n",
       "      <td>2</td>\n",
       "      <td>1</td>\n",
       "      <td>1</td>\n",
       "      <td>2010</td>\n",
       "      <td>中</td>\n",
       "      <td>18</td>\n",
       "    </tr>\n",
       "  </tbody>\n",
       "</table>\n",
       "</div>"
      ],
      "text/plain": [
       "   Unnamed: 0  总价(W)  建筑面积(㎡) 建筑类型 房屋朝向  建筑结构 装修情况  梯户比例 配备电梯  \\\n",
       "0           0  275.0    89.00   板楼   南北  砖混结构   精装  一梯两户    无   \n",
       "1           1  310.0    75.23   板楼    南  钢混结构   精装  一梯两户    无   \n",
       "2           2  405.0   129.49   板楼    南  钢混结构   毛坯  一梯两户    无   \n",
       "3           3  370.0    78.00   板楼   南北  砖混结构   简装  一梯四户    无   \n",
       "4           4  210.0    86.32   板楼   南北  钢混结构   其他  两梯四户    有   \n",
       "\n",
       "                       经纬度 行政区  户型-房间  户型-厅  户型-厨房  户型-卫生  建成时间 所处层数  总楼层  \n",
       "0   121.2535861,31.0347424  松江      2     2      1      1  1999    高    6  \n",
       "1  121.3175491,31.24657189  嘉定      2     2      1      1  2005    高    5  \n",
       "2   121.7264358,31.1604964  浦东      3     2      1      2  2005    高    6  \n",
       "3     121.488126,31.325868  宝山      3     1      1      1  1995    低    6  \n",
       "4     121.129149,31.290665  青浦      2     2      1      1  2010    中   18  "
      ]
     },
     "execution_count": 373,
     "metadata": {},
     "output_type": "execute_result"
    }
   ],
   "source": [
    "data.head()         #读取数据前5行"
   ]
  },
  {
   "cell_type": "code",
   "execution_count": 374,
   "metadata": {},
   "outputs": [
    {
     "name": "stdout",
     "output_type": "stream",
     "text": [
      "<class 'pandas.core.frame.DataFrame'>\n",
      "RangeIndex: 10000 entries, 0 to 9999\n",
      "Data columns (total 18 columns):\n",
      " #   Column      Non-Null Count  Dtype  \n",
      "---  ------      --------------  -----  \n",
      " 0   Unnamed: 0  10000 non-null  int64  \n",
      " 1   总价(W)       9997 non-null   float64\n",
      " 2   建筑面积(㎡)     10000 non-null  float64\n",
      " 3   建筑类型        10000 non-null  object \n",
      " 4   房屋朝向        10000 non-null  object \n",
      " 5   建筑结构        10000 non-null  object \n",
      " 6   装修情况        10000 non-null  object \n",
      " 7   梯户比例        9609 non-null   object \n",
      " 8   配备电梯        9609 non-null   object \n",
      " 9   经纬度         10000 non-null  object \n",
      " 10  行政区         10000 non-null  object \n",
      " 11  户型-房间       10000 non-null  int64  \n",
      " 12  户型-厅        10000 non-null  int64  \n",
      " 13  户型-厨房       10000 non-null  int64  \n",
      " 14  户型-卫生       10000 non-null  int64  \n",
      " 15  建成时间        10000 non-null  object \n",
      " 16  所处层数        10000 non-null  object \n",
      " 17  总楼层         10000 non-null  int64  \n",
      "dtypes: float64(2), int64(6), object(10)\n",
      "memory usage: 1.4+ MB\n"
     ]
    }
   ],
   "source": [
    "data.info()  #查看缺失值"
   ]
  },
  {
   "cell_type": "code",
   "execution_count": 375,
   "metadata": {},
   "outputs": [
    {
     "data": {
      "text/plain": [
       "<matplotlib.collections.PathCollection at 0x13b8bd19340>"
      ]
     },
     "execution_count": 375,
     "metadata": {},
     "output_type": "execute_result"
    },
    {
     "data": {
      "image/png": "[encoded data removed]",
      "text/plain": [
       "<Figure size 432x288 with 1 Axes>"
      ]
     },
     "metadata": {
      "needs_background": "light"
     },
     "output_type": "display_data"
    }
   ],
   "source": [
    "plt.scatter(x=range(0,len(data['总价(W)'])),y=data['总价(W)']) #查看房价数据分布"
   ]
  },
  {
   "cell_type": "code",
   "execution_count": 376,
   "metadata": {},
   "outputs": [
    {
     "data": {
      "text/plain": [
       "4346.57"
      ]
     },
     "execution_count": 376,
     "metadata": {},
     "output_type": "execute_result"
    },
    {
     "data": {
      "image/png": "[encoded data removed]",
      "text/plain": [
       "<Figure size 432x288 with 1 Axes>"
      ]
     },
     "metadata": {
      "needs_background": "light"
     },
     "output_type": "display_data"
    }
   ],
   "source": [
    "plt.scatter(x=range(0,len(data['建筑面积(㎡)'])),y=data['建筑面积(㎡)']) #查看房价建筑面积分布， 发现一个很大的值 可能大别墅 4346.57 面积，且只出现一次这种点\n",
    "data['建筑面积(㎡)'].max()"
   ]
  },
  {
   "cell_type": "code",
   "execution_count": 377,
   "metadata": {},
   "outputs": [
    {
     "data": {
      "text/plain": [
       "板楼      8600\n",
       "塔楼       914\n",
       "钢混结构     353\n",
       "暂无数据      93\n",
       "砖混结构      34\n",
       "未知结构       4\n",
       "板塔结合       2\n",
       "Name: 建筑类型, dtype: int64"
      ]
     },
     "execution_count": 377,
     "metadata": {},
     "output_type": "execute_result"
    }
   ],
   "source": [
    "data['建筑类型'].value_counts()             #建筑类型分为5类"
   ]
  },
  {
   "cell_type": "code",
   "execution_count": 378,
   "metadata": {},
   "outputs": [
    {
     "data": {
      "text/plain": [
       "南          7381\n",
       "南北         1117\n",
       "暂无数据        322\n",
       "东南          219\n",
       "装修情况：精装     209\n",
       "西南          160\n",
       "装修情况：毛坯     119\n",
       "东           104\n",
       "北            99\n",
       "西            64\n",
       "装修情况：其他      42\n",
       "西北           42\n",
       "东北           30\n",
       "装修情况：简装      21\n",
       "南西南          13\n",
       "东南南          12\n",
       "东西           11\n",
       "南西            9\n",
       "南西北           7\n",
       "东南北           5\n",
       "东南西南          3\n",
       "南东北           2\n",
       "东南西北          2\n",
       "西南西北          2\n",
       "西南东北          1\n",
       "东南东北          1\n",
       "东东南           1\n",
       "西南西           1\n",
       "西南北           1\n",
       "Name: 房屋朝向, dtype: int64"
      ]
     },
     "execution_count": 378,
     "metadata": {},
     "output_type": "execute_result"
    }
   ],
   "source": [
    "data['房屋朝向'].value_counts()             #房屋朝向很多无关数据，后面需要剔除"
   ]
  },
  {
   "cell_type": "code",
   "execution_count": 379,
   "metadata": {},
   "outputs": [
    {
     "data": {
      "text/plain": [
       "钢混结构         5760\n",
       "砖混结构         3741\n",
       "别墅类型：独栋       132\n",
       "别墅类型：暂无数据     109\n",
       "未知结构          108\n",
       "别墅类型：联排       100\n",
       "别墅类型：双拼        33\n",
       "别墅类型：叠拼        17\n",
       "Name: 建筑结构, dtype: int64"
      ]
     },
     "execution_count": 379,
     "metadata": {},
     "output_type": "execute_result"
    }
   ],
   "source": [
    "data['建筑结构'].value_counts()             #建筑类型分为5类，也有一些错误数据"
   ]
  },
  {
   "cell_type": "code",
   "execution_count": 380,
   "metadata": {},
   "outputs": [
    {
     "data": {
      "text/plain": [
       "精装          4428\n",
       "简装          2520\n",
       "其他          1957\n",
       "毛坯           704\n",
       "产权年限：未知      334\n",
       "产权年限：70年      57\n",
       "Name: 装修情况, dtype: int64"
      ]
     },
     "execution_count": 380,
     "metadata": {},
     "output_type": "execute_result"
    }
   ],
   "source": [
    "data['装修情况'].value_counts()             #建筑类型分为5类，错误数据产权"
   ]
  },
  {
   "cell_type": "code",
   "execution_count": 381,
   "metadata": {},
   "outputs": [
    {
     "data": {
      "text/plain": [
       "一梯两户      3846\n",
       "一梯四户      1759\n",
       "一梯三户      1183\n",
       "两梯四户       458\n",
       "两梯三户       327\n",
       "          ... \n",
       "一梯三十四户       1\n",
       "四梯十九户        1\n",
       "两梯十九户        1\n",
       "四梯三户         1\n",
       "一梯四十七户       1\n",
       "Name: 梯户比例, Length: 124, dtype: int64"
      ]
     },
     "execution_count": 381,
     "metadata": {},
     "output_type": "execute_result"
    }
   ],
   "source": [
    "data['梯户比例'].value_counts()             #建筑类型分为5类，有点离谱 一梯四十七户，但是可能是大厂房或者宿舍\n"
   ]
  },
  {
   "cell_type": "code",
   "execution_count": 382,
   "metadata": {},
   "outputs": [
    {
     "data": {
      "text/plain": [
       "无       5400\n",
       "有       3610\n",
       "暂无数据     599\n",
       "Name: 配备电梯, dtype: int64"
      ]
     },
     "execution_count": 382,
     "metadata": {},
     "output_type": "execute_result"
    }
   ],
   "source": [
    "data['配备电梯'].value_counts()             #建筑类型分为5类，暂无数据算成没有电梯的\n"
   ]
  },
  {
   "cell_type": "code",
   "execution_count": 383,
   "metadata": {},
   "outputs": [
    {
     "data": {
      "text/plain": [
       "浦东    2638\n",
       "闵行    1248\n",
       "松江     887\n",
       "宝山     656\n",
       "徐汇     624\n",
       "杨浦     608\n",
       "普陀     568\n",
       "青浦     476\n",
       "长宁     469\n",
       "嘉定     449\n",
       "虹口     357\n",
       "闸北     319\n",
       "黄浦     305\n",
       "静安     196\n",
       "奉贤     176\n",
       "金山      16\n",
       "崇明       8\n",
       "Name: 行政区, dtype: int64"
      ]
     },
     "execution_count": 383,
     "metadata": {},
     "output_type": "execute_result"
    }
   ],
   "source": [
    "data['行政区'].value_counts()             #行政区数据 ， 浦东 有2638 条\n"
   ]
  },
  {
   "cell_type": "code",
   "execution_count": 384,
   "metadata": {},
   "outputs": [
    {
     "data": {
      "text/plain": [
       "2    4852\n",
       "3    2317\n",
       "1    2044\n",
       "4     533\n",
       "5     183\n",
       "6      53\n",
       "7      14\n",
       "8       3\n",
       "9       1\n",
       "Name: 户型-房间, dtype: int64"
      ]
     },
     "execution_count": 384,
     "metadata": {},
     "output_type": "execute_result"
    }
   ],
   "source": [
    "data['户型-房间'].value_counts()             #'户型-房间'统计\n"
   ]
  },
  {
   "cell_type": "code",
   "execution_count": 385,
   "metadata": {},
   "outputs": [
    {
     "data": {
      "text/plain": [
       "2    4618\n",
       "1    4603\n",
       "0     545\n",
       "3     211\n",
       "4      21\n",
       "5       1\n",
       "6       1\n",
       "Name: 户型-厅, dtype: int64"
      ]
     },
     "execution_count": 385,
     "metadata": {},
     "output_type": "execute_result"
    }
   ],
   "source": [
    "data['户型-厅'].value_counts()             #户型-厅 统计\n"
   ]
  },
  {
   "cell_type": "code",
   "execution_count": 386,
   "metadata": {},
   "outputs": [
    {
     "data": {
      "text/plain": [
       "1    9874\n",
       "2      84\n",
       "0      32\n",
       "3       5\n",
       "4       4\n",
       "6       1\n",
       "Name: 户型-厨房, dtype: int64"
      ]
     },
     "execution_count": 386,
     "metadata": {},
     "output_type": "execute_result"
    }
   ],
   "source": [
    "data['户型-厨房'].value_counts()             #户型-厨房 统计 "
   ]
  },
  {
   "cell_type": "code",
   "execution_count": 387,
   "metadata": {},
   "outputs": [
    {
     "data": {
      "text/plain": [
       "1    7589\n",
       "2    1810\n",
       "3     351\n",
       "4     144\n",
       "5      61\n",
       "0      27\n",
       "6      10\n",
       "7       5\n",
       "8       2\n",
       "9       1\n",
       "Name: 户型-卫生, dtype: int64"
      ]
     },
     "execution_count": 387,
     "metadata": {},
     "output_type": "execute_result"
    }
   ],
   "source": [
    "data['户型-卫生'].value_counts()             #户型-卫生 统计\n"
   ]
  },
  {
   "cell_type": "code",
   "execution_count": 388,
   "metadata": {},
   "outputs": [
    {
     "data": {
      "text/plain": [
       "1994    590\n",
       "1995    578\n",
       "未知      555\n",
       "2005    468\n",
       "2006    431\n",
       "       ... \n",
       "1972      1\n",
       "1969      1\n",
       "1968      1\n",
       "1950      1\n",
       "1961      1\n",
       "Name: 建成时间, Length: 71, dtype: int64"
      ]
     },
     "execution_count": 388,
     "metadata": {},
     "output_type": "execute_result"
    }
   ],
   "source": [
    "data['建成时间'].value_counts()             #建成时间 统计"
   ]
  },
  {
   "cell_type": "code",
   "execution_count": 389,
   "metadata": {},
   "outputs": [
    {
     "data": {
      "text/plain": [
       "高    3716\n",
       "中    3185\n",
       "低    3099\n",
       "Name: 所处层数, dtype: int64"
      ]
     },
     "execution_count": 389,
     "metadata": {},
     "output_type": "execute_result"
    }
   ],
   "source": [
    "data['所处层数'].value_counts()             #所处层数 统计"
   ]
  },
  {
   "cell_type": "code",
   "execution_count": 390,
   "metadata": {},
   "outputs": [
    {
     "data": {
      "text/plain": [
       "6     4361\n",
       "5      661\n",
       "18     584\n",
       "11     487\n",
       "7      471\n",
       "14     382\n",
       "3      232\n",
       "24     214\n",
       "4      199\n",
       "17     187\n",
       "16     180\n",
       "12     160\n",
       "13     154\n",
       "2      154\n",
       "8      134\n",
       "20     105\n",
       "28     103\n",
       "15      97\n",
       "26      96\n",
       "19      83\n",
       "25      82\n",
       "21      80\n",
       "9       73\n",
       "22      69\n",
       "27      69\n",
       "32      68\n",
       "10      67\n",
       "30      62\n",
       "29      61\n",
       "31      59\n",
       "23      52\n",
       "1       46\n",
       "33      41\n",
       "34      40\n",
       "37      17\n",
       "35      14\n",
       "36      14\n",
       "38      13\n",
       "39      11\n",
       "40       4\n",
       "53       4\n",
       "58       2\n",
       "49       2\n",
       "44       1\n",
       "47       1\n",
       "41       1\n",
       "43       1\n",
       "80       1\n",
       "56       1\n",
       "Name: 总楼层, dtype: int64"
      ]
     },
     "execution_count": 390,
     "metadata": {},
     "output_type": "execute_result"
    }
   ],
   "source": [
    "data['总楼层'].value_counts()             #总楼层 统计"
   ]
  },
  {
   "cell_type": "markdown",
   "metadata": {},
   "source": [
    "# 特征工程和数据清洗 <br>\n",
    "### 需要把所有特征数字化，不能有字符，中文"
   ]
  },
  {
   "cell_type": "code",
   "execution_count": 391,
   "metadata": {},
   "outputs": [
    {
     "name": "stdout",
     "output_type": "stream",
     "text": [
      "<class 'pandas.core.frame.DataFrame'>\n",
      "Int64Index: 9609 entries, 0 to 9999\n",
      "Data columns (total 18 columns):\n",
      " #   Column      Non-Null Count  Dtype  \n",
      "---  ------      --------------  -----  \n",
      " 0   Unnamed: 0  9609 non-null   int64  \n",
      " 1   总价(W)       9609 non-null   float64\n",
      " 2   建筑面积(㎡)     9609 non-null   float64\n",
      " 3   建筑类型        9609 non-null   object \n",
      " 4   房屋朝向        9609 non-null   object \n",
      " 5   建筑结构        9609 non-null   object \n",
      " 6   装修情况        9609 non-null   object \n",
      " 7   梯户比例        9609 non-null   object \n",
      " 8   配备电梯        9609 non-null   object \n",
      " 9   经纬度         9609 non-null   object \n",
      " 10  行政区         9609 non-null   object \n",
      " 11  户型-房间       9609 non-null   int64  \n",
      " 12  户型-厅        9609 non-null   int64  \n",
      " 13  户型-厨房       9609 non-null   int64  \n",
      " 14  户型-卫生       9609 non-null   int64  \n",
      " 15  建成时间        9609 non-null   object \n",
      " 16  所处层数        9609 non-null   object \n",
      " 17  总楼层         9609 non-null   int64  \n",
      "dtypes: float64(2), int64(6), object(10)\n",
      "memory usage: 1.4+ MB\n"
     ]
    }
   ],
   "source": [
    "data=data.dropna()  #删除带空值的列\n",
    "data.info()"
   ]
  },
  {
   "cell_type": "markdown",
   "metadata": {},
   "source": [
    "### 房屋朝向数据错误较多  百度查询 房屋仅有 8个朝向 1.东 2.南 3.西 4.北 5.东北 6.西北 7.西南 8.东南 "
   ]
  },
  {
   "cell_type": "code",
   "execution_count": 392,
   "metadata": {},
   "outputs": [
    {
     "name": "stdout",
     "output_type": "stream",
     "text": [
      "<class 'pandas.core.frame.DataFrame'>\n",
      "Int64Index: 8099 entries, 1 to 9999\n",
      "Data columns (total 18 columns):\n",
      " #   Column      Non-Null Count  Dtype  \n",
      "---  ------      --------------  -----  \n",
      " 0   Unnamed: 0  8099 non-null   int64  \n",
      " 1   总价(W)       8099 non-null   float64\n",
      " 2   建筑面积(㎡)     8099 non-null   float64\n",
      " 3   建筑类型        8099 non-null   object \n",
      " 4   房屋朝向        8099 non-null   float64\n",
      " 5   建筑结构        8099 non-null   object \n",
      " 6   装修情况        8099 non-null   object \n",
      " 7   梯户比例        8099 non-null   object \n",
      " 8   配备电梯        8099 non-null   object \n",
      " 9   经纬度         8099 non-null   object \n",
      " 10  行政区         8099 non-null   object \n",
      " 11  户型-房间       8099 non-null   int64  \n",
      " 12  户型-厅        8099 non-null   int64  \n",
      " 13  户型-厨房       8099 non-null   int64  \n",
      " 14  户型-卫生       8099 non-null   int64  \n",
      " 15  建成时间        8099 non-null   object \n",
      " 16  所处层数        8099 non-null   object \n",
      " 17  总楼层         8099 non-null   int64  \n",
      "dtypes: float64(3), int64(6), object(9)\n",
      "memory usage: 1.2+ MB\n"
     ]
    }
   ],
   "source": [
    "mapDirct = {'东':1,'南':2,'西':3,'北':4,'东北':5,'西北':6,'西南':7,'东南':8} # 构建一个字典， 非字典的值直接变成空值，删除空值便可以剔除异常数据\n",
    "data['房屋朝向']=data['房屋朝向'].map(mapDirct)    # 进行map 映射 ,没有的值都映射为 空值\n",
    "data=data.dropna()                                # 删除空值的行\n",
    "data.info()"
   ]
  },
  {
   "cell_type": "markdown",
   "metadata": {},
   "source": [
    "### 建筑类型 特征处理 "
   ]
  },
  {
   "cell_type": "code",
   "execution_count": 393,
   "metadata": {},
   "outputs": [
    {
     "data": {
      "text/plain": [
       "板楼      7203\n",
       "塔楼       818\n",
       "暂无数据      76\n",
       "板塔结合       2\n",
       "Name: 建筑类型, dtype: int64"
      ]
     },
     "execution_count": 393,
     "metadata": {},
     "output_type": "execute_result"
    }
   ],
   "source": [
    "data['建筑类型'].value_counts()             #建筑类型分为5类 "
   ]
  },
  {
   "cell_type": "code",
   "execution_count": 394,
   "metadata": {},
   "outputs": [],
   "source": [
    "mapDirct = {'板楼':1,'塔楼':2,'暂无数据':2,'板塔结合':3}  #采用众数来对 对暂无数据进行填充\n",
    "data['建筑类型']=data['建筑类型'].map(mapDirct)"
   ]
  },
  {
   "cell_type": "markdown",
   "metadata": {},
   "source": [
    "### 建筑结构特征处理"
   ]
  },
  {
   "cell_type": "code",
   "execution_count": 395,
   "metadata": {},
   "outputs": [
    {
     "data": {
      "text/plain": [
       "钢混结构    4722\n",
       "砖混结构    3291\n",
       "未知结构      86\n",
       "Name: 建筑结构, dtype: int64"
      ]
     },
     "execution_count": 395,
     "metadata": {},
     "output_type": "execute_result"
    }
   ],
   "source": [
    "data['建筑结构'].value_counts()"
   ]
  },
  {
   "cell_type": "code",
   "execution_count": 396,
   "metadata": {},
   "outputs": [],
   "source": [
    "mapDirct = {'钢混结构':1,'砖混结构':2,'未知结构':1}  #采用众数来对 对暂无数据进行填充\n",
    "data['建筑结构']=data['建筑结构'].map(mapDirct)"
   ]
  },
  {
   "cell_type": "code",
   "execution_count": 397,
   "metadata": {},
   "outputs": [
    {
     "name": "stdout",
     "output_type": "stream",
     "text": [
      "<class 'pandas.core.frame.DataFrame'>\n",
      "Int64Index: 8099 entries, 1 to 9999\n",
      "Data columns (total 18 columns):\n",
      " #   Column      Non-Null Count  Dtype  \n",
      "---  ------      --------------  -----  \n",
      " 0   Unnamed: 0  8099 non-null   int64  \n",
      " 1   总价(W)       8099 non-null   float64\n",
      " 2   建筑面积(㎡)     8099 non-null   float64\n",
      " 3   建筑类型        8099 non-null   int64  \n",
      " 4   房屋朝向        8099 non-null   float64\n",
      " 5   建筑结构        8099 non-null   int64  \n",
      " 6   装修情况        8099 non-null   object \n",
      " 7   梯户比例        8099 non-null   object \n",
      " 8   配备电梯        8099 non-null   object \n",
      " 9   经纬度         8099 non-null   object \n",
      " 10  行政区         8099 non-null   object \n",
      " 11  户型-房间       8099 non-null   int64  \n",
      " 12  户型-厅        8099 non-null   int64  \n",
      " 13  户型-厨房       8099 non-null   int64  \n",
      " 14  户型-卫生       8099 non-null   int64  \n",
      " 15  建成时间        8099 non-null   object \n",
      " 16  所处层数        8099 non-null   object \n",
      " 17  总楼层         8099 non-null   int64  \n",
      "dtypes: float64(3), int64(8), object(7)\n",
      "memory usage: 1.2+ MB\n"
     ]
    }
   ],
   "source": [
    "data.info()"
   ]
  },
  {
   "cell_type": "markdown",
   "metadata": {},
   "source": [
    "### 装修情况特征处理"
   ]
  },
  {
   "cell_type": "code",
   "execution_count": 398,
   "metadata": {},
   "outputs": [
    {
     "data": {
      "text/plain": [
       "精装    3722\n",
       "简装    2201\n",
       "其他    1622\n",
       "毛坯     554\n",
       "Name: 装修情况, dtype: int64"
      ]
     },
     "execution_count": 398,
     "metadata": {},
     "output_type": "execute_result"
    }
   ],
   "source": [
    "data['装修情况'].value_counts()"
   ]
  },
  {
   "cell_type": "code",
   "execution_count": 399,
   "metadata": {},
   "outputs": [],
   "source": [
    "mapDirct = {'精装':1,'简装':2,'毛坯':3,'其他':4}  #采用众数来对 对未知结构进行填充\n",
    "data['装修情况']=data['装修情况'].map(mapDirct)"
   ]
  },
  {
   "cell_type": "markdown",
   "metadata": {},
   "source": [
    "### 梯户比例 特征处理"
   ]
  },
  {
   "cell_type": "code",
   "execution_count": 400,
   "metadata": {},
   "outputs": [],
   "source": [
    "index=data['梯户比例'].value_counts().index"
   ]
  },
  {
   "cell_type": "code",
   "execution_count": 401,
   "metadata": {},
   "outputs": [
    {
     "data": {
      "text/plain": [
       "{'一梯两户': 119,\n",
       " '一梯四户': 118,\n",
       " '一梯三户': 117,\n",
       " '两梯四户': 116,\n",
       " '两梯三户': 115,\n",
       " '一梯五户': 114,\n",
       " '一梯六户': 113,\n",
       " '两梯八户': 112,\n",
       " '两梯两户': 111,\n",
       " '两梯六户': 110,\n",
       " '一梯一户': 109,\n",
       " '一梯八户': 108,\n",
       " '两梯五户': 107,\n",
       " '一梯七户': 106,\n",
       " '两梯七户': 105,\n",
       " '两梯十户': 104,\n",
       " '三梯八户': 103,\n",
       " '三梯六户': 102,\n",
       " '两梯十二户': 101,\n",
       " '一梯十二户': 100,\n",
       " '两梯九户': 99,\n",
       " '三梯四户': 98,\n",
       " '一梯二十四户': 97,\n",
       " '一梯十户': 96,\n",
       " '一梯九户': 95,\n",
       " '一梯二十户': 94,\n",
       " '一梯二十一户': 93,\n",
       " '三梯十六户': 92,\n",
       " '两梯十一户': 91,\n",
       " '一梯三十七户': 90,\n",
       " '一梯十六户': 89,\n",
       " '三梯九户': 88,\n",
       " '一梯二十八户': 87,\n",
       " '三梯两户': 86,\n",
       " '三梯十户': 85,\n",
       " '一梯二十二户': 84,\n",
       " '三梯十二户': 83,\n",
       " '一梯二十七户': 82,\n",
       " '三梯二十户': 81,\n",
       " '一梯十八户': 80,\n",
       " '三梯七户': 79,\n",
       " '一梯十五户': 78,\n",
       " '两梯十七户': 77,\n",
       " '一梯十一户': 76,\n",
       " '两梯十三户': 75,\n",
       " '三梯二十二户': 74,\n",
       " '一梯十三户': 73,\n",
       " '两梯一户': 72,\n",
       " '四梯十五户': 71,\n",
       " '一梯十九户': 70,\n",
       " '一梯三十六户': 69,\n",
       " '四梯二十四户': 68,\n",
       " '六梯三十二户': 67,\n",
       " '三梯二十四户': 66,\n",
       " '三梯三户': 65,\n",
       " '三梯十一户': 64,\n",
       " '一梯十四户': 63,\n",
       " '两梯十五户': 62,\n",
       " '一梯二十九户': 61,\n",
       " '四梯十三户': 60,\n",
       " '一梯三十一户': 59,\n",
       " '三梯二十六户': 58,\n",
       " '四梯三十三户': 57,\n",
       " '一梯十七户': 56,\n",
       " '四梯六户': 55,\n",
       " '三梯十五户': 54,\n",
       " '两梯十六户': 53,\n",
       " '一梯八十户': 52,\n",
       " '一梯三十户': 51,\n",
       " '一梯二十三户': 50,\n",
       " '五梯二十五户': 49,\n",
       " '两梯二十一户': 48,\n",
       " '一梯五十户': 47,\n",
       " '两梯十八户': 46,\n",
       " '四梯十四户': 45,\n",
       " '一梯四十九户': 44,\n",
       " '两梯二十二户': 43,\n",
       " '五梯十九户': 42,\n",
       " '两梯十四户': 41,\n",
       " '四梯四户': 40,\n",
       " '四梯二十一户': 39,\n",
       " '三梯十八户': 38,\n",
       " '两梯二十七户': 37,\n",
       " '两梯二十户': 36,\n",
       " '一梯三十五户': 35,\n",
       " '一梯四十户': 34,\n",
       " '两梯三十户': 33,\n",
       " '四梯十户': 32,\n",
       " '一梯五十二户': 31,\n",
       " '一梯三十二户': 30,\n",
       " '三梯五户': 29,\n",
       " '一梯七十七户': 28,\n",
       " '三梯十四户': 27,\n",
       " '三梯十七户': 26,\n",
       " '两梯二十四户': 25,\n",
       " '四梯二十户': 24,\n",
       " '三梯十三户': 23,\n",
       " '一梯六十九户': 22,\n",
       " '三梯二十七户': 21,\n",
       " '一梯三十三户': 20,\n",
       " '四梯十二户': 19,\n",
       " '一梯四十三户': 18,\n",
       " '四梯八户': 17,\n",
       " '五梯三十一户': 16,\n",
       " '一梯三十四户': 15,\n",
       " '两梯十九户': 14,\n",
       " '四梯三户': 13,\n",
       " '一梯七十五户': 12,\n",
       " '四梯九户': 11,\n",
       " '一梯九十六户': 10,\n",
       " '两梯二十五户': 9,\n",
       " '五梯四十户': 8,\n",
       " '四梯十六户': 7,\n",
       " '四梯二十六户': 6,\n",
       " '四梯七户': 5,\n",
       " '三梯一户': 4,\n",
       " '五梯三十四户': 3,\n",
       " '一梯三十八户': 2,\n",
       " '一梯四十七户': 1}"
      ]
     },
     "execution_count": 401,
     "metadata": {},
     "output_type": "execute_result"
    }
   ],
   "source": [
    "mapDirct=dict(zip(index,range(len(index),0,-1)))\n",
    "mapDirct"
   ]
  },
  {
   "cell_type": "code",
   "execution_count": 402,
   "metadata": {},
   "outputs": [],
   "source": [
    "data['梯户比例']=data['梯户比例'].map(mapDirct)"
   ]
  },
  {
   "cell_type": "markdown",
   "metadata": {},
   "source": [
    "### 配备电梯  特征处理"
   ]
  },
  {
   "cell_type": "code",
   "execution_count": 403,
   "metadata": {},
   "outputs": [
    {
     "name": "stdout",
     "output_type": "stream",
     "text": [
      "<class 'pandas.core.frame.DataFrame'>\n",
      "Int64Index: 8099 entries, 1 to 9999\n",
      "Data columns (total 18 columns):\n",
      " #   Column      Non-Null Count  Dtype  \n",
      "---  ------      --------------  -----  \n",
      " 0   Unnamed: 0  8099 non-null   int64  \n",
      " 1   总价(W)       8099 non-null   float64\n",
      " 2   建筑面积(㎡)     8099 non-null   float64\n",
      " 3   建筑类型        8099 non-null   int64  \n",
      " 4   房屋朝向        8099 non-null   float64\n",
      " 5   建筑结构        8099 non-null   int64  \n",
      " 6   装修情况        8099 non-null   int64  \n",
      " 7   梯户比例        8099 non-null   int64  \n",
      " 8   配备电梯        8099 non-null   object \n",
      " 9   经纬度         8099 non-null   object \n",
      " 10  行政区         8099 non-null   object \n",
      " 11  户型-房间       8099 non-null   int64  \n",
      " 12  户型-厅        8099 non-null   int64  \n",
      " 13  户型-厨房       8099 non-null   int64  \n",
      " 14  户型-卫生       8099 non-null   int64  \n",
      " 15  建成时间        8099 non-null   object \n",
      " 16  所处层数        8099 non-null   object \n",
      " 17  总楼层         8099 non-null   int64  \n",
      "dtypes: float64(3), int64(10), object(5)\n",
      "memory usage: 1.2+ MB\n"
     ]
    }
   ],
   "source": [
    "data.info()"
   ]
  },
  {
   "cell_type": "code",
   "execution_count": 404,
   "metadata": {},
   "outputs": [
    {
     "data": {
      "text/plain": [
       "无       4619\n",
       "有       3001\n",
       "暂无数据     479\n",
       "Name: 配备电梯, dtype: int64"
      ]
     },
     "execution_count": 404,
     "metadata": {},
     "output_type": "execute_result"
    }
   ],
   "source": [
    "data['配备电梯'].value_counts()   #删除 每有数据的特征 且 构建 0(无电梯) - 1(有电梯)"
   ]
  },
  {
   "cell_type": "code",
   "execution_count": 405,
   "metadata": {},
   "outputs": [
    {
     "name": "stdout",
     "output_type": "stream",
     "text": [
      "<class 'pandas.core.frame.DataFrame'>\n",
      "Int64Index: 8099 entries, 1 to 9999\n",
      "Data columns (total 18 columns):\n",
      " #   Column      Non-Null Count  Dtype  \n",
      "---  ------      --------------  -----  \n",
      " 0   Unnamed: 0  8099 non-null   int64  \n",
      " 1   总价(W)       8099 non-null   float64\n",
      " 2   建筑面积(㎡)     8099 non-null   float64\n",
      " 3   建筑类型        8099 non-null   int64  \n",
      " 4   房屋朝向        8099 non-null   float64\n",
      " 5   建筑结构        8099 non-null   int64  \n",
      " 6   装修情况        8099 non-null   int64  \n",
      " 7   梯户比例        8099 non-null   int64  \n",
      " 8   配备电梯        8099 non-null   int64  \n",
      " 9   经纬度         8099 non-null   object \n",
      " 10  行政区         8099 non-null   object \n",
      " 11  户型-房间       8099 non-null   int64  \n",
      " 12  户型-厅        8099 non-null   int64  \n",
      " 13  户型-厨房       8099 non-null   int64  \n",
      " 14  户型-卫生       8099 non-null   int64  \n",
      " 15  建成时间        8099 non-null   object \n",
      " 16  所处层数        8099 non-null   object \n",
      " 17  总楼层         8099 non-null   int64  \n",
      "dtypes: float64(3), int64(11), object(4)\n",
      "memory usage: 1.2+ MB\n"
     ]
    }
   ],
   "source": [
    "mapDirct = {'无':0,'有':1,'暂无数据':0} # \n",
    "data['配备电梯']=data['配备电梯'].map(mapDirct)    # 进行 \n",
    "data=data.dropna()                                # 删除空值的行\n",
    "data.info()"
   ]
  },
  {
   "cell_type": "markdown",
   "metadata": {},
   "source": [
    "### 不知道经纬度具意义，直接删除"
   ]
  },
  {
   "cell_type": "code",
   "execution_count": 406,
   "metadata": {},
   "outputs": [],
   "source": [
    "data=data.drop('经纬度',axis=1)"
   ]
  },
  {
   "cell_type": "markdown",
   "metadata": {},
   "source": [
    "### 行政区特征处理"
   ]
  },
  {
   "cell_type": "code",
   "execution_count": 407,
   "metadata": {},
   "outputs": [
    {
     "data": {
      "text/plain": [
       "浦东    2225\n",
       "闵行     983\n",
       "松江     610\n",
       "徐汇     565\n",
       "杨浦     540\n",
       "宝山     495\n",
       "普陀     474\n",
       "长宁     426\n",
       "虹口     326\n",
       "青浦     325\n",
       "嘉定     287\n",
       "黄浦     267\n",
       "闸北     245\n",
       "静安     178\n",
       "奉贤     135\n",
       "金山      10\n",
       "崇明       8\n",
       "Name: 行政区, dtype: int64"
      ]
     },
     "execution_count": 407,
     "metadata": {},
     "output_type": "execute_result"
    }
   ],
   "source": [
    "data['行政区'].value_counts()"
   ]
  },
  {
   "cell_type": "code",
   "execution_count": 408,
   "metadata": {},
   "outputs": [
    {
     "data": {
      "text/plain": [
       "{'浦东': 17,\n",
       " '闵行': 16,\n",
       " '松江': 15,\n",
       " '徐汇': 14,\n",
       " '杨浦': 13,\n",
       " '宝山': 12,\n",
       " '普陀': 11,\n",
       " '长宁': 10,\n",
       " '虹口': 9,\n",
       " '青浦': 8,\n",
       " '嘉定': 7,\n",
       " '黄浦': 6,\n",
       " '闸北': 5,\n",
       " '静安': 4,\n",
       " '奉贤': 3,\n",
       " '金山': 2,\n",
       " '崇明': 1}"
      ]
     },
     "execution_count": 408,
     "metadata": {},
     "output_type": "execute_result"
    }
   ],
   "source": [
    "index=data['行政区'].value_counts().index\n",
    "mapDirct=dict(zip(index,range(len(index),0,-1)))\n",
    "mapDirct"
   ]
  },
  {
   "cell_type": "code",
   "execution_count": 409,
   "metadata": {},
   "outputs": [],
   "source": [
    "data['行政区']=data['行政区'].map(mapDirct)"
   ]
  },
  {
   "cell_type": "markdown",
   "metadata": {},
   "source": [
    "###  建成时间    所处层数    格式转换    "
   ]
  },
  {
   "cell_type": "code",
   "execution_count": 410,
   "metadata": {},
   "outputs": [],
   "source": [
    "#替换 值 未知 为  1994 的行 再转换数据格式\n",
    "data['建成时间']=data['建成时间'].replace('未知',1994)\n",
    "data['建成时间']=data['建成时间'].astype('float32')"
   ]
  },
  {
   "cell_type": "code",
   "execution_count": 411,
   "metadata": {},
   "outputs": [],
   "source": [
    "mapDirct = {'高':1,'中':2,'低':3} # \n",
    "data['所处层数']=data['所处层数'].map(mapDirct)"
   ]
  },
  {
   "cell_type": "code",
   "execution_count": 412,
   "metadata": {},
   "outputs": [
    {
     "name": "stdout",
     "output_type": "stream",
     "text": [
      "<class 'pandas.core.frame.DataFrame'>\n",
      "Int64Index: 8099 entries, 1 to 9999\n",
      "Data columns (total 16 columns):\n",
      " #   Column   Non-Null Count  Dtype  \n",
      "---  ------   --------------  -----  \n",
      " 0   总价(W)    8099 non-null   float64\n",
      " 1   建筑面积(㎡)  8099 non-null   float64\n",
      " 2   建筑类型     8099 non-null   float64\n",
      " 3   房屋朝向     8099 non-null   float64\n",
      " 4   建筑结构     8099 non-null   float64\n",
      " 5   装修情况     8099 non-null   float64\n",
      " 6   梯户比例     8099 non-null   float64\n",
      " 7   配备电梯     8099 non-null   float64\n",
      " 8   行政区      8099 non-null   float64\n",
      " 9   户型-房间    8099 non-null   float64\n",
      " 10  户型-厅     8099 non-null   float64\n",
      " 11  户型-厨房    8099 non-null   float64\n",
      " 12  户型-卫生    8099 non-null   float64\n",
      " 13  建成时间     8099 non-null   float64\n",
      " 14  所处层数     8099 non-null   float64\n",
      " 15  总楼层      8099 non-null   float64\n",
      "dtypes: float64(16)\n",
      "memory usage: 1.1 MB\n"
     ]
    }
   ],
   "source": [
    "data = data.drop('Unnamed: 0',axis=1)\n",
    "data=data.astype('float')\n",
    "data.info()\n"
   ]
  },
  {
   "cell_type": "markdown",
   "metadata": {},
   "source": [
    "# 数据集划分 "
   ]
  },
  {
   "cell_type": "code",
   "execution_count": 413,
   "metadata": {},
   "outputs": [],
   "source": [
    "import scipy                      #统计分析库\n",
    "from scipy import stats          #scipy库的stats模块\n",
    "import sklearn                    #机器学习库\n",
    "from sklearn.model_selection import train_test_split, GridSearchCV  #  train_test_split 划分数据集包  GridSearchCV 网格搜索超参数包\n",
    "from sklearn.linear_model import LinearRegression  # 线性回归导包 \n",
    "from sklearn.ensemble import RandomForestRegressor\n",
    "import matplotlib as mpl\n",
    "# matplotlib其实是不支持显示中文的 显示中文需要一行代码设置字体\n",
    "mpl.rcParams['font.family'] = 'SimHei'\n",
    "plt.rcParams['axes.unicode_minus'] = False   # 步骤二（解决坐标轴负数的负号显示问题）"
   ]
  },
  {
   "cell_type": "code",
   "execution_count": 414,
   "metadata": {},
   "outputs": [
    {
     "data": {
      "text/plain": [
       "Index(['总价(W)', '建筑面积(㎡)', '建筑类型', '房屋朝向', '建筑结构', '装修情况', '梯户比例', '配备电梯',\n",
       "       '行政区', '户型-房间', '户型-厅', '户型-厨房', '户型-卫生', '建成时间', '所处层数', '总楼层'],\n",
       "      dtype='object')"
      ]
     },
     "execution_count": 414,
     "metadata": {},
     "output_type": "execute_result"
    }
   ],
   "source": [
    "dataindex = data.columns\n",
    "dataindex"
   ]
  },
  {
   "cell_type": "code",
   "execution_count": 415,
   "metadata": {},
   "outputs": [],
   "source": [
    "x_train,x_test,y_train,y_test = train_test_split(data[dataindex[1:]],data['总价(W)'],random_state=12,test_size=0.3,shuffle=True)   # 把数据集划分成训练集和测试集 按 总数*0.3的 测试集数量划分"
   ]
  },
  {
   "cell_type": "code",
   "execution_count": 428,
   "metadata": {},
   "outputs": [],
   "source": [
    "model=GridSearchCV(LinearRegression(),cv=3,param_grid={},scoring='neg_mean_squared_error',refit=True)   #线性回归模型 MSE评价方式 网格搜索法 ， 3折交叉验证\n",
    "# model=GridSearchCV(RandomForestRegressor(n_estimators=2000),cv=5,param_grid={},scoring='neg_mean_squared_error',refit=True)  #随机森林模型 MSE评价方式 网格搜素法 ， 3折交叉验证"
   ]
  },
  {
   "cell_type": "code",
   "execution_count": 429,
   "metadata": {},
   "outputs": [
    {
     "data": {
      "text/plain": [
       "GridSearchCV(cv=3, estimator=LinearRegression(), param_grid={},\n",
       "             scoring='neg_mean_squared_error')"
      ]
     },
     "execution_count": 429,
     "metadata": {},
     "output_type": "execute_result"
    }
   ],
   "source": [
    "model.fit(x_train,y_train)"
   ]
  },
  {
   "cell_type": "code",
   "execution_count": 1,
   "metadata": {},
   "outputs": [
    {
     "ename": "NameError",
     "evalue": "name 'model' is not defined",
     "output_type": "error",
     "traceback": [
      "\u001b[1;31m---------------------------------------------------------------------------\u001b[0m",
      "\u001b[1;31mNameError\u001b[0m                                 Traceback (most recent call last)",
      "\u001b[1;32m<ipython-input-1-d8ac5c4be86a>\u001b[0m in \u001b[0;36m<module>\u001b[1;34m\u001b[0m\n\u001b[1;32m----> 1\u001b[1;33m \u001b[0mprint\u001b[0m\u001b[1;33m(\u001b[0m\u001b[1;34m\"训练集MSE:\"\u001b[0m\u001b[1;33m,\u001b[0m\u001b[0mabs\u001b[0m\u001b[1;33m(\u001b[0m\u001b[0mmodel\u001b[0m\u001b[1;33m.\u001b[0m\u001b[0mscore\u001b[0m\u001b[1;33m(\u001b[0m\u001b[0mx_train\u001b[0m\u001b[1;33m,\u001b[0m\u001b[0my_train\u001b[0m\u001b[1;33m)\u001b[0m\u001b[1;33m)\u001b[0m\u001b[1;33m)\u001b[0m    \u001b[1;31m#打印预测的MSE,该值越接近于0越好\u001b[0m\u001b[1;33m\u001b[0m\u001b[1;33m\u001b[0m\u001b[0m\n\u001b[0m\u001b[0;32m      2\u001b[0m \u001b[0my_pre\u001b[0m \u001b[1;33m=\u001b[0m \u001b[0mmodel\u001b[0m\u001b[1;33m.\u001b[0m\u001b[0mpredict\u001b[0m\u001b[1;33m(\u001b[0m\u001b[0mx_train\u001b[0m\u001b[1;33m)\u001b[0m\u001b[1;33m\u001b[0m\u001b[1;33m\u001b[0m\u001b[0m\n",
      "\u001b[1;31mNameError\u001b[0m: name 'model' is not defined"
     ]
    }
   ],
   "source": [
    "\n",
    "print(\"训练集MSE:\",abs(model.score(x_train,y_train)))    #打印预测的MSE,该值越接近于0越好\n",
    "y_pre = model.predict(x_train)\n"
   ]
  },
  {
   "cell_type": "code",
   "execution_count": 431,
   "metadata": {},
   "outputs": [
    {
     "data": {
      "image/png": "[encoded data removed]",
      "text/plain": [
       "<Figure size 432x288 with 1 Axes>"
      ]
     },
     "metadata": {
      "needs_background": "light"
     },
     "output_type": "display_data"
    }
   ],
   "source": [
    "fig = plt.figure()\n",
    "# fig.set_figheight(10)\n",
    "# fig.set_figwidth(30)\n",
    "plt.ioff()\n",
    "plt.title('训练集预测情况')\n",
    "plt.xlabel('样本序号', fontsize=14)\n",
    "plt.ylabel('房价', fontsize=14)\n",
    "plt.scatter(x=range(0,len(y_train)),y = y_train,color='r',marker='o',label='真实值')\n",
    "plt.scatter(x=range(0,len(y_train)),y = y_pre,color='g',marker='x',label='预测值')\n",
    "plt.legend(loc='upper right') #这个必须有\n",
    "plt.show()"
   ]
  },
  {
   "cell_type": "code",
   "execution_count": 432,
   "metadata": {},
   "outputs": [
    {
     "name": "stdout",
     "output_type": "stream",
     "text": [
      "测试集MSE: -51829.39537051526\n"
     ]
    }
   ],
   "source": [
    "print(\"测试集MSE:\",abs(model.score(x_test,y_test)))   #打印预测的MSE该值越接近于0越好 \n",
    "y_test_pre = model.predict(x_test)"
   ]
  },
  {
   "cell_type": "code",
   "execution_count": 433,
   "metadata": {},
   "outputs": [
    {
     "data": {
      "image/png": "[encoded data removed]",
      "text/plain": [
       "<Figure size 432x288 with 1 Axes>"
      ]
     },
     "metadata": {
      "needs_background": "light"
     },
     "output_type": "display_data"
    }
   ],
   "source": [
    "fig = plt.figure()\n",
    "plt.ioff()\n",
    "plt.title('测试集预测情况')\n",
    "plt.xlabel('样本序号', fontsize=14)\n",
    "plt.ylabel('房价', fontsize=14)\n",
    "plt.scatter(x=range(0,len(y_test)),y = y_test,color='r',marker='o',label='真实值')\n",
    "plt.scatter(x=range(0,len(y_test_pre)),y = y_test_pre,color='g',marker='x',label='预测值')\n",
    "plt.legend(loc='upper right') #这个必须有\n",
    "plt.show()"
   ]
  }
 ],
 "metadata": {
  "interpreter": {
   "hash": "304848d8fb4c51ff2e896ed3b24ef7ad968c070f20d16939556ac77f2633d6de"
  },
  "kernelspec": {
   "display_name": "Python 3.9.6 64-bit",
   "language": "python",
   "name": "python3"
  },
  "language_info": {
   "codemirror_mode": {
    "name": "ipython",
    "version": 3
   },
   "file_extension": ".py",
   "mimetype": "text/x-python",
   "name": "python",
   "nbconvert_exporter": "python",
   "pygments_lexer": "ipython3",
   "version": "3.8.8"
  },
  "orig_nbformat": 4
 },
 "nbformat": 4,
 "nbformat_minor": 2
}
